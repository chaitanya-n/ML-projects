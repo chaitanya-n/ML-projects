{
 "cells": [
  {
   "cell_type": "code",
   "execution_count": 59,
   "id": "1868339c-6047-4587-b529-9e15349247bf",
   "metadata": {},
   "outputs": [],
   "source": [
    "import pkg_resources"
   ]
  },
  {
   "cell_type": "code",
   "execution_count": 61,
   "id": "91c4241c-2fe7-4980-afed-c2a6a577003e",
   "metadata": {},
   "outputs": [],
   "source": [
    "def is_package_installed(package_name):\n",
    "\ttry:\n",
    "\t\tpkg_resources.get_distribution(package_name)\n",
    "\t\treturn True\n",
    "\texcept pkg_resources.DistributionNotFound:\n",
    "\t\treturn False"
   ]
  },
  {
   "cell_type": "code",
   "execution_count": 63,
   "id": "b4d46c1e-66d3-4ea0-9eb0-3b39077786e0",
   "metadata": {},
   "outputs": [
    {
     "name": "stdout",
     "output_type": "stream",
     "text": [
      "is installed\n"
     ]
    }
   ],
   "source": [
    "# Example usage for checking if 'numpy' is installed\n",
    "if is_package_installed('streamlit'):\n",
    "\tprint(\"is installed\")\n",
    "else:\n",
    "\tprint(\"not installed\")"
   ]
  },
  {
   "cell_type": "code",
   "execution_count": 57,
   "id": "ff538d79-91a0-4a01-a9d1-2d3213631b9a",
   "metadata": {},
   "outputs": [],
   "source": [
    "#import os\n",
    "#os.environ[\"LANGCHAIN_API\"] = \"True\"\n",
    "#print(os.environ)\n",
    "#for name, value in os.environ.items():\n",
    "#    print(\"{0}: {1}\".format(name, value))"
   ]
  },
  {
   "cell_type": "code",
   "execution_count": null,
   "id": "eed15dc2-f05d-4445-9a56-776ffc302d14",
   "metadata": {},
   "outputs": [],
   "source": []
  }
 ],
 "metadata": {
  "kernelspec": {
   "display_name": "Python 3 (ipykernel)",
   "language": "python",
   "name": "python3"
  },
  "language_info": {
   "codemirror_mode": {
    "name": "ipython",
    "version": 3
   },
   "file_extension": ".py",
   "mimetype": "text/x-python",
   "name": "python",
   "nbconvert_exporter": "python",
   "pygments_lexer": "ipython3",
   "version": "3.12.7"
  }
 },
 "nbformat": 4,
 "nbformat_minor": 5
}
