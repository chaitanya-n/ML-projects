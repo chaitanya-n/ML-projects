{
 "cells": [
  {
   "cell_type": "code",
   "execution_count": 5,
   "id": "5ca8d450-0c4f-42c5-b22b-cf3802c706e6",
   "metadata": {},
   "outputs": [],
   "source": [
    "#Gensim Word vector visualization"
   ]
  },
  {
   "cell_type": "code",
   "execution_count": 102,
   "id": "52600ca1-b1df-44c7-88c6-49e5f505e431",
   "metadata": {},
   "outputs": [],
   "source": [
    "#import numpy as np\n",
    "#import matplotlib.pyplot as plt\n",
    "#plt.style.use('ggplot')"
   ]
  },
  {
   "cell_type": "code",
   "execution_count": 104,
   "id": "569e2c11-d849-484c-b836-1a9ced7a20e1",
   "metadata": {},
   "outputs": [],
   "source": [
    "#from sklearn.manifold import TSNE\n",
    "#from sklearn.decomposition import PCA\n",
    "\n",
    "from gensim.test.utils import datapath, get_tmpfile\n",
    "from gensim.models import KeyedVectors\n",
    "from gensim.scripts.glove2word2vec import glove2word2vec"
   ]
  },
  {
   "cell_type": "code",
   "execution_count": 106,
   "id": "07da8f18-4beb-48d7-957e-d8ebf7c5816b",
   "metadata": {},
   "outputs": [
    {
     "name": "stderr",
     "output_type": "stream",
     "text": [
      "C:\\Users\\chait\\AppData\\Local\\Temp\\ipykernel_29204\\1174050747.py:3: DeprecationWarning: Call to deprecated `glove2word2vec` (KeyedVectors.load_word2vec_format(.., binary=False, no_header=True) loads GLoVE text vectors.).\n",
      "  glove2word2vec(glove_file, word2vec_glove_file)\n"
     ]
    },
    {
     "data": {
      "text/plain": [
       "(400000, 100)"
      ]
     },
     "execution_count": 106,
     "metadata": {},
     "output_type": "execute_result"
    }
   ],
   "source": [
    "glove_file = datapath('/Users/chait/Desktop/ML projects/glove.6B.100d.txt')\n",
    "word2vec_glove_file = get_tmpfile(\"glove.6B.100d.txt\")\n",
    "glove2word2vec(glove_file, word2vec_glove_file)"
   ]
  },
  {
   "cell_type": "code",
   "execution_count": 108,
   "id": "81a7f3ac-f4c4-4478-9b9a-08e77d1ef7f4",
   "metadata": {},
   "outputs": [],
   "source": [
    "model = KeyedVectors.load_word2vec_format(word2vec_glove_file)"
   ]
  },
  {
   "cell_type": "code",
   "execution_count": 110,
   "id": "520cd137-82c9-4bb9-ac68-22c3abb8d44d",
   "metadata": {},
   "outputs": [
    {
     "data": {
      "text/plain": [
       "[('coconut', 0.7097253799438477),\n",
       " ('mango', 0.705482542514801),\n",
       " ('bananas', 0.6887733936309814),\n",
       " ('potato', 0.6629636287689209),\n",
       " ('pineapple', 0.6534532308578491),\n",
       " ('fruit', 0.6519855260848999),\n",
       " ('peanut', 0.6420576572418213),\n",
       " ('pecan', 0.6349173188209534),\n",
       " ('cashew', 0.6294420957565308),\n",
       " ('papaya', 0.6246591210365295)]"
      ]
     },
     "execution_count": 110,
     "metadata": {},
     "output_type": "execute_result"
    }
   ],
   "source": [
    "model.most_similar('banana')"
   ]
  },
  {
   "cell_type": "code",
   "execution_count": 112,
   "id": "25a6ac9e-8ada-4df4-bc31-98ae9c8cb5de",
   "metadata": {},
   "outputs": [
    {
     "data": {
      "text/plain": [
       "[('shunichi', 0.49618101119995117),\n",
       " ('ieronymos', 0.4736502170562744),\n",
       " ('pengrowth', 0.4668096899986267),\n",
       " ('höss', 0.4636845588684082),\n",
       " ('damaskinos', 0.4617849290370941),\n",
       " ('yadin', 0.4617374837398529),\n",
       " ('hundertwasser', 0.4588957130908966),\n",
       " ('ncpa', 0.4577339291572571),\n",
       " ('maccormac', 0.4566109776496887),\n",
       " ('rothfeld', 0.4523947238922119)]"
      ]
     },
     "execution_count": 112,
     "metadata": {},
     "output_type": "execute_result"
    }
   ],
   "source": [
    "model.most_similar(negative = 'banana')"
   ]
  },
  {
   "cell_type": "code",
   "execution_count": 114,
   "id": "3ef04731-433a-487b-88cb-9018d5cbe076",
   "metadata": {},
   "outputs": [
    {
     "name": "stdout",
     "output_type": "stream",
     "text": [
      "queen: 0.7699\n"
     ]
    }
   ],
   "source": [
    "result = model.most_similar(positive=['woman' , 'king'], negative=['man'])\n",
    "print(\"{}: {:.4f}\".format(*result[0]))"
   ]
  },
  {
   "cell_type": "code",
   "execution_count": 116,
   "id": "c6ce645c-c128-4a84-91f1-c7c13d73af11",
   "metadata": {},
   "outputs": [],
   "source": [
    "def anology(x1, x2, y1):\n",
    "    result = model.most_similar(positive = [y1, x2], negative = [x1])\n",
    "    return result[0][0]"
   ]
  },
  {
   "cell_type": "code",
   "execution_count": 138,
   "id": "d4a1a19b-62c5-4cdb-984f-024f8d4d5d9c",
   "metadata": {},
   "outputs": [
    {
     "data": {
      "text/plain": [
       "'shelters'"
      ]
     },
     "execution_count": 138,
     "metadata": {},
     "output_type": "execute_result"
    }
   ],
   "source": [
    "anology('food', 'water', 'shelter')"
   ]
  },
  {
   "cell_type": "code",
   "execution_count": 120,
   "id": "9d938aad-7293-4bb7-bb0d-c2326dad75e1",
   "metadata": {},
   "outputs": [
    {
     "data": {
      "text/plain": [
       "'vegetables'"
      ]
     },
     "execution_count": 120,
     "metadata": {},
     "output_type": "execute_result"
    }
   ],
   "source": [
    "anology('banana', 'fruit', 'potato')"
   ]
  },
  {
   "cell_type": "code",
   "execution_count": 122,
   "id": "ade12d42-f0e3-4bcd-8e3f-20f651934c26",
   "metadata": {},
   "outputs": [
    {
     "data": {
      "text/plain": [
       "'greatest'"
      ]
     },
     "execution_count": 122,
     "metadata": {},
     "output_type": "execute_result"
    }
   ],
   "source": [
    "anology('tall', 'tallest', 'great')"
   ]
  },
  {
   "cell_type": "code",
   "execution_count": 124,
   "id": "0db01dde-70aa-487c-9dbd-24cc4e069bce",
   "metadata": {},
   "outputs": [
    {
     "data": {
      "text/plain": [
       "'queen'"
      ]
     },
     "execution_count": 124,
     "metadata": {},
     "output_type": "execute_result"
    }
   ],
   "source": [
    "anology('man', 'king', 'woman')"
   ]
  },
  {
   "cell_type": "code",
   "execution_count": 132,
   "id": "77aa373b-6f47-4c67-a4be-41bebd3346ee",
   "metadata": {},
   "outputs": [
    {
     "data": {
      "text/plain": [
       "'professor'"
      ]
     },
     "execution_count": 132,
     "metadata": {},
     "output_type": "execute_result"
    }
   ],
   "source": [
    "anology('temple', 'priest', 'university')"
   ]
  },
  {
   "cell_type": "code",
   "execution_count": 134,
   "id": "0c65bb6e-7843-4ec5-b25c-316bb2fd000e",
   "metadata": {},
   "outputs": [
    {
     "data": {
      "text/plain": [
       "'emperor'"
      ]
     },
     "execution_count": 134,
     "metadata": {},
     "output_type": "execute_result"
    }
   ],
   "source": [
    "anology('kingdom', 'king', 'empire')"
   ]
  },
  {
   "cell_type": "code",
   "execution_count": null,
   "id": "9a0ae550-5958-41bf-ba5c-5ba656ec9ef7",
   "metadata": {},
   "outputs": [],
   "source": []
  }
 ],
 "metadata": {
  "kernelspec": {
   "display_name": "Python 3 (ipykernel)",
   "language": "python",
   "name": "python3"
  },
  "language_info": {
   "codemirror_mode": {
    "name": "ipython",
    "version": 3
   },
   "file_extension": ".py",
   "mimetype": "text/x-python",
   "name": "python",
   "nbconvert_exporter": "python",
   "pygments_lexer": "ipython3",
   "version": "3.12.7"
  }
 },
 "nbformat": 4,
 "nbformat_minor": 5
}
